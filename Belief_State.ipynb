﻿{
  "metadata": {
    "name": "Belief State",
    "kernelspec": {
      "language": "scala",
      "name": "spark2-scala"
    },
    "language_info": {
      "codemirror_mode": "text/x-scala",
      "file_extension": ".scala",
      "mimetype": "text/x-scala",
      "name": "scala",
      "pygments_lexer": "scala"
    }
  },
  "nbformat": 4,
  "nbformat_minor": 2,
  "cells": [
    {
      "cell_type": "code",
      "execution_count": 0,
      "metadata": {
        "autoscroll": "auto"
      },
      "outputs": [],
      "source": "%python\nfrom pylab import *\nfrom numpy import exp\n\nktvalues \u003d [5.0, 1.0, 0.2];\nlegarray \u003d [];\n\n\nfig, ax \u003d plt.subplots(1,2,figsize\u003d(12,4))\n\nfor i in range(0,len(ktvalues)):\n    kt \u003d ktvalues[i];\n    x \u003dlinspace(-20,20);\n    f \u003d 1.0/(exp(x/kt)+1);\n    ax[0].plot(x,f);\n    legarray.append(\"$kT\u003d$\"+str(kt));\nax[0].set_xlabel(\u0027$E\u003d\\epsilon-\\mu$\u0027);\nax[0].set_ylabel(\u0027$f(\\epsilon, \\mu,T)$\u0027)\nax[0].legend(legarray);\nax[0].set_title(\u0027Fermi-Dirac Distribution\u0027)\n\n\nfor i in range(0,len(ktvalues)):\n    kt \u003d ktvalues[i];\n    x \u003dlinspace(-10,20);\n    f \u003d 1.0/(exp(x/kt)-1);\n    ax[1].plot(x,f);\n    legarray.append(\"$kT\u003d$\"+str(kt));\nax[1].set_xlabel(\u0027$E\u003d\\epsilon-\\mu$\u0027);\nax[1].set_ylabel(\u0027$f(\\epsilon, \\mu,T)$\u0027)\nax[1].legend(legarray);\nax[1].set_title(\u0027Fermi-Dirac Distribution\u0027)"
    },
    {
      "cell_type": "code",
      "execution_count": 1,
      "metadata": {
        "autoscroll": "auto"
      },
      "outputs": [],
      "source": "%python\nkt \u003d 1.0;\nlegarray \u003d [];\nx \u003dlinspace(-10,10);\nf \u003d 1.0/(exp(x/kt)+1);\nplot(x,f)\nlegarray.append(\u0027FD\u0027);\nx \u003dlinspace(0.4,10);\nf \u003d 1.0/(exp(x/kt)-1);\nplot(x,f)\nlegarray.append(\u0027BE\u0027);\nxlabel(\u0027$E\u003d\\epsilon-\\mu$\u0027);\nylabel(\u0027$f(\\epsilon, \\mu,T)$\u0027)\nprint(\u0027kT \u003d 1.0\u0027)\nlegend(legarray);"
    },
    {
      "cell_type": "markdown",
      "metadata": {},
      "source": "$$ n_b\u003d1/(\\exp(E/kT)-1) $$\n$$ n_a(t)\u003dn_a*\\exp((-2L^2t\\pi)/O_b)+n_b*(1-\\exp((2L^2t\\pi)/O_b)) $$"
    },
    {
      "cell_type": "code",
      "execution_count": 3,
      "metadata": {
        "autoscroll": "auto"
      },
      "outputs": [],
      "source": "%python\nimport numpy as np\n\n#initial parameters\n\nO_b \u003d 1.0                    # Omega(k) function dependent on particles/degrees of freedom (k) in the reservoir\nL \u003d 1.0                      # constant of interaction between Alice and reservoir R\nE \u003d 1.0                      # Total energy in the system\nkT \u003d 1.0                     # Reservoir environment \u0027temperature\u0027\nn_a \u003d 1.0                    # Initial P(A\u003d1), Alice for Brexit\nn_b \u003d 1./3                   # Initial homogenous environment for anti-Brexit\n\n\nn_a_total \u003d []\nn_b_total \u003d []\n\n# at time t\u003d0,\nn_bt \u003d n_b\nn_at \u003d n_a\n\n\n# Evolution over time t\nfor t in np.arange(0, 1, 0.001):\n        \n    #Record the change\n    n_a_total.append(n_at)\n    n_b_total.append(n_bt)\n    \n    #update n_at based on bagarello 2018\n    n_at \u003d (n_a * np.exp(((-2*(L**2)*np.pi*t)/O_b)) + n_bt * (1-np.exp(-((-2*(L**2)*np.pi*t)/O_b))))\n    \n    #update n_bt based on BE distribution\n    n_bt \u003d 1/(np.exp(E/kT)-1)\n    O_b \u003d (n_bt)**4\n    if n_at \u003c 0:\n        break\n\n\n#plot\nfig, ax \u003d subplots(1, 2, figsize\u003d(12, 4))\nax[0].set_title(\u0027Alice\u0027)\nax[0].set_xlabel(\u0027time $t$\u0027)\nax[0].set_ylabel(\u0027number $n_a$\u0027)\nax[0].plot(n_a_total)\nax[1].set_title(\u0027Reservoir\u0027)\nax[1].set_xlabel(\u0027time $t$\u0027)\nax[1].set_ylabel(\u0027number $n_b$\u0027)\nax[1].plot(n_b_total)"
    }
  ]
}